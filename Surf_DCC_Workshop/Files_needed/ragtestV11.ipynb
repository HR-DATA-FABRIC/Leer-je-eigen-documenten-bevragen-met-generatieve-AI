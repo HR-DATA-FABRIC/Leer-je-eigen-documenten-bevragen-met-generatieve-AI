{
 "cells": [
  {
   "cell_type": "code",
   "execution_count": null,
   "id": "2d095cad-3ef4-4a99-b88a-ce2b6b882696",
   "metadata": {},
   "outputs": [],
   "source": [
    "# Install a pip package in the current Jupyter kernel\n",
    "import sys\n",
    "!{sys.executable} -m pip install langchain ultralytics 'unstructured[pdf]' opencv-python-headless==4.8.1.78 python-dotenv tiktoken openai==0.28.1 chromadb==0.3.29\n",
    "\n",
    "# fist add Libgl1\n",
    "!sudo apt-get update\n",
    "!sudo apt-get install libgl1 -y\n",
    "\n",
    "# second add sql\n",
    "!pip install --user pysqlite3-binary\n",
    "# then in settings.py:\n",
    "# these three lines swap the stdlib sqlite3 lib with the pysqlite3 \n",
    "!package__import__('pysqlite3')\n",
    "import sys\n",
    "!sys.modules['sqlite3'] = sys.modules.pop('pysqlite3')"
   ]
  },
  {
   "cell_type": "code",
   "execution_count": null,
   "id": "1a2f6067-82e8-4e7a-820f-49ec732b3488",
   "metadata": {},
   "outputs": [],
   "source": [
    "# SUPRESS warnings\n",
    "import warnings\n",
    "warnings.filterwarnings('ignore')"
   ]
  },
  {
   "cell_type": "code",
   "execution_count": null,
   "id": "72862568-1cf2-4407-9536-6dd895b516cf",
   "metadata": {},
   "outputs": [],
   "source": [
    "from dotenv import load_dotenv\n",
    "from langchain.llms import AzureOpenAI\n",
    "from langchain.document_loaders import UnstructuredFileLoader\n",
    "from langchain.text_splitter import CharacterTextSplitter\n",
    "from langchain.embeddings import AzureOpenAIEmbeddings\n",
    "from langchain.vectorstores import Chroma\n",
    "from langchain.chains import RetrievalQA\n",
    "from langchain.llms import AzureOpenAI"
   ]
  },
  {
   "cell_type": "code",
   "execution_count": null,
   "id": "877ff325-188e-4b12-95ba-dde859324717",
   "metadata": {},
   "outputs": [],
   "source": [
    "# @title Default title text\n",
    "# All Azure deployment information is stored in a .env file\n",
    "import os\n",
    "from io import StringIO\n",
    "from dotenv import load_dotenv\n",
    "load_dotenv(r'/home/rvanderwil/data/volume_2/config.env')\n",
    "#import cv2"
   ]
  },
  {
   "cell_type": "code",
   "execution_count": null,
   "id": "b609f62a-8a80-461c-9b4a-328e49379a1e",
   "metadata": {},
   "outputs": [],
   "source": [
    "loader = UnstructuredFileLoader(r'/home/rvanderwil/data/volume_2/Sample.pdf')\n",
    "documents = loader.load()\n",
    "\n",
    "#display(documents)"
   ]
  },
  {
   "cell_type": "code",
   "execution_count": null,
   "id": "dd9615f5-ea9d-4f9c-a442-64b27259314f",
   "metadata": {},
   "outputs": [],
   "source": [
    "text_splitter = CharacterTextSplitter(chunk_size=8000, chunk_overlap=0)\n",
    "texts = text_splitter.split_documents(documents)\n",
    "\n",
    "#display(texts)"
   ]
  },
  {
   "cell_type": "code",
   "execution_count": null,
   "id": "58c580aa-fa88-4bea-9903-33cc4925b94a",
   "metadata": {},
   "outputs": [],
   "source": [
    "#### https://python.langchain.com/docs/integrations/text_embedding/azureopenai\n",
    "\n",
    "embeddings = AzureOpenAIEmbeddings(\n",
    "    azure_deployment=\"EMBEDDING\",\n",
    "    openai_api_version = \"2023-09-15-preview\",\n",
    ")\n",
    "\n",
    "doc_search = Chroma.from_documents(texts,embeddings);\n",
    "chain = RetrievalQA.from_chain_type(llm=AzureOpenAI(model_kwargs={'engine':'DAVINCI'}),chain_type='stuff', retriever = doc_search.as_retriever());\n"
   ]
  },
  {
   "cell_type": "code",
   "execution_count": null,
   "id": "472e6e83-f588-4cc5-b335-8f5248c531f6",
   "metadata": {},
   "outputs": [],
   "source": [
    "query = 'summarize'\n",
    "chain.run(query)"
   ]
  },
  {
   "cell_type": "code",
   "execution_count": null,
   "id": "2214c23f-bcdb-4754-b76e-b0eedefc5f8b",
   "metadata": {},
   "outputs": [],
   "source": [
    "query = 'who are tested and how?'\n",
    "chain.run(query)"
   ]
  },
  {
   "cell_type": "code",
   "execution_count": null,
   "id": "1fbe3551-6321-43fd-a125-595903d13a2e",
   "metadata": {},
   "outputs": [],
   "source": []
  }
 ],
 "metadata": {
  "kernelspec": {
   "display_name": "Python 3 (ipykernel)",
   "language": "python",
   "name": "python3"
  },
  "language_info": {
   "codemirror_mode": {
    "name": "ipython",
    "version": 3
   },
   "file_extension": ".py",
   "mimetype": "text/x-python",
   "name": "python",
   "nbconvert_exporter": "python",
   "pygments_lexer": "ipython3",
   "version": "3.8.10"
  }
 },
 "nbformat": 4,
 "nbformat_minor": 5
}
